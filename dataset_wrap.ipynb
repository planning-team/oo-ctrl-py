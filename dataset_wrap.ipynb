{
 "cells": [
  {
   "cell_type": "code",
   "execution_count": 74,
   "metadata": {},
   "outputs": [],
   "source": [
    "import numpy as np\n",
    "import torch\n",
    "import os\n",
    "import json\n",
    "from torch.utils.data import Dataset, DataLoader"
   ]
  },
  {
   "cell_type": "code",
   "execution_count": 97,
   "metadata": {},
   "outputs": [],
   "source": [
    "class PedestrianDataset(Dataset):\n",
    "    def __init__(self,dir_path: str, device='cpu', horizon=20):\n",
    "        \"\"\"\n",
    "        A dataset class for pedestrian data, designed for training motion prediction models.\n",
    "    \n",
    "        Parameters:\n",
    "        -----------\n",
    "        dir_path : str\n",
    "            Path to the directory containing the dataset. The directory is expected to include \n",
    "            files with pedestrian positions and potentially other necessary data for training.\n",
    "        \n",
    "        device : str, optional (default='cpu')\n",
    "            The device where tensors will be created and stored (e.g., 'cpu' or 'cuda').\n",
    "        \n",
    "        horizon : int, optional (default=20)\n",
    "            Number of past steps used to create the motion history for each pedestrian.\n",
    "            Determines the size of the historical data tensor: (N, T, 2), where:\n",
    "            - N — number of pedestrians (or batch size);\n",
    "            - T — length of the temporal history (equal to the horizon);\n",
    "            - 2 — coordinates (x, y).\n",
    "        \n",
    "        Example Usage:\n",
    "        --------------\n",
    "        dataset = PedestrianDataset(dir_path='./data', device='cuda', horizon=30)\n",
    "        \"\"\"\n",
    "        super().__init__()\n",
    "        self._horizon = horizon\n",
    "        self._path = dir_path\n",
    "        if not os.path.exists(self._path):\n",
    "            raise FileExistsError()\n",
    "        self._device = self._check_device(device=device)\n",
    "        self.scenes = []\n",
    "        self.frame_indices = []  # Map global indices to scene/frame\n",
    "\n",
    "        for scene_file in sorted(os.listdir(self._path),key=lambda x: int(x.split('_')[1].split(\".\")[0])):\n",
    "            if scene_file.endswith('.json'):\n",
    "                scene_path = os.path.join(self._path, scene_file)\n",
    "                with open(scene_path, 'r') as f:\n",
    "                    scene_data = json.load(f)\n",
    "                    num_steps = len(scene_data['robot']['action'])\n",
    "                    self.scenes.append(scene_data)\n",
    "                    self.frame_indices.extend([(len(self.scenes) - 1, num_steps)])\n",
    "    def __len__(self):\n",
    "        return len(self.frame_indices)\n",
    "    def __getitem__(self, idx):\n",
    "        scene_idx, frame_idx = self._find_idx(global_idx=idx)\n",
    "        print(f\"Scene id is {scene_idx}, local index {frame_idx}\")\n",
    "        scene_data = self.scenes[scene_idx]\n",
    "        pedestrians = scene_data['pedestrians']\n",
    "        poses = np.array([ped['pose'] for ped in pedestrians])\n",
    "        robot_goal = scene_data['robot']['goal']\n",
    "        if frame_idx < self._horizon:\n",
    "            add = poses[:, [0] * (self._horizon - frame_idx), :]\n",
    "            history = np.concatenate((add,poses[:,:frame_idx]),axis=1)\n",
    "        else:\n",
    "            history = poses[:, frame_idx - self._horizon:frame_idx, :]\n",
    "        return torch.tensor(history,dtype=torch.float32,device=self._device)\n",
    "\n",
    "    \n",
    "    def _find_idx(self,global_idx):\n",
    "        total_length = 0\n",
    "        for scene_id, frame_length in self.frame_indices:\n",
    "            if (total_length <= global_idx) and (global_idx < total_length + frame_length):\n",
    "                local_idx = global_idx - total_length\n",
    "                return scene_id, local_idx\n",
    "            else:\n",
    "                total_length+=frame_length\n",
    "\n",
    "    def _check_device(self, device: str) -> str:\n",
    "        \"\"\"\n",
    "        Validates the chosen device and falls back to available alternatives.\n",
    "\n",
    "        Parameters:\n",
    "        -----------\n",
    "        device : str\n",
    "            Desired device ('cuda', 'mps', or 'cpu').\n",
    "\n",
    "        Returns:\n",
    "        --------\n",
    "        str\n",
    "            The validated device to be used.\n",
    "        \"\"\"\n",
    "        if device == 'cuda' and torch.cuda.is_available():\n",
    "            return 'cuda'\n",
    "        elif device == 'mps' and torch.backends.mps.is_available():\n",
    "            return 'mps'\n",
    "        elif device == 'cpu':\n",
    "            return 'cpu'\n",
    "        else:\n",
    "            # Fall back to the first available device, or CPU if none are available\n",
    "            print(f\"Warning: Device '{device}' is not available. Falling back to an available device.\")\n",
    "            if torch.cuda.is_available():\n",
    "                return 'cuda'\n",
    "            elif torch.backends.mps.is_available():\n",
    "                return 'mps'\n",
    "            else:\n",
    "                return 'cpu'\n",
    "            \n"
   ]
  },
  {
   "cell_type": "code",
   "execution_count": 104,
   "metadata": {},
   "outputs": [
    {
     "name": "stdout",
     "output_type": "stream",
     "text": [
      "Scene id is 2, local index 7\n"
     ]
    },
    {
     "data": {
      "text/plain": [
       "torch.Size([7, 10, 3])"
      ]
     },
     "execution_count": 104,
     "metadata": {},
     "output_type": "execute_result"
    }
   ],
   "source": [
    "dataset = PedestrianDataset(dir_path=\"../dataset\",device=\"cpu\",horizon=10)\n",
    "test = dataset[100]\n",
    "test.shape"
   ]
  }
 ],
 "metadata": {
  "kernelspec": {
   "display_name": "MPPI",
   "language": "python",
   "name": "python3"
  },
  "language_info": {
   "codemirror_mode": {
    "name": "ipython",
    "version": 3
   },
   "file_extension": ".py",
   "mimetype": "text/x-python",
   "name": "python",
   "nbconvert_exporter": "python",
   "pygments_lexer": "ipython3",
   "version": "3.9.19"
  }
 },
 "nbformat": 4,
 "nbformat_minor": 2
}
